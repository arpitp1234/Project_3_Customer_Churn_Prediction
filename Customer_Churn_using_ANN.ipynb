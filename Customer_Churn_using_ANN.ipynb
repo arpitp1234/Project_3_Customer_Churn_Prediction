{
  "cells": [
    {
      "cell_type": "markdown",
      "metadata": {
        "colab_type": "text",
        "id": "view-in-github"
      },
      "source": [
        "<a href=\"https://colab.research.google.com/github/arpitp1234/machinelearning/blob/main/Customer_Churn_using_ANN.ipynb\" target=\"_parent\"><img src=\"https://colab.research.google.com/assets/colab-badge.svg\" alt=\"Open In Colab\"/></a>"
      ]
    },
    {
      "cell_type": "code",
      "execution_count": null,
      "metadata": {
        "id": "Ms9GaM5My9_0"
      },
      "outputs": [],
      "source": [
        "#import all the important libraries required for developing the model\n",
        "import numpy as np\n",
        "import pandas as pd\n",
        "import matplotlib.pyplot as plt\n",
        "import seaborn as sns\n",
        "import tensorflow as tf\n",
        "from tensorflow import keras\n",
        "from sklearn.model_selection import train_test_split\n",
        "from sklearn.preprocessing import MinMaxScaler\n",
        "from sklearn.linear_model import LogisticRegression\n",
        "from sklearn.ensemble import RandomForestClassifier\n",
        "import xgboost as xgb\n",
        "from sklearn.metrics import confusion_matrix,classification_report\n"
      ]
    },
    {
      "cell_type": "code",
      "execution_count": null,
      "metadata": {
        "id": "D_xNjBaDD_II"
      },
      "outputs": [],
      "source": [
        "#reading the dataset from pandas library\n",
        "churn=pd.read_csv(\"/content/Churn-Modelling.csv\")"
      ]
    },
    {
      "cell_type": "markdown",
      "metadata": {
        "id": "FIMJVYSCDRRU"
      },
      "source": [
        "# New Section"
      ]
    },
    {
      "cell_type": "code",
      "execution_count": null,
      "metadata": {
        "colab": {
          "base_uri": "https://localhost:8080/",
          "height": 206
        },
        "id": "rzHzQ8UVEYiw",
        "outputId": "e0935e65-9a0c-4971-e629-0a554c643333"
      },
      "outputs": [
        {
          "data": {
            "application/vnd.google.colaboratory.intrinsic+json": {
              "summary": "{\n  \"name\": \"churn\",\n  \"rows\": 10000,\n  \"fields\": [\n    {\n      \"column\": \"RowNumber\",\n      \"properties\": {\n        \"dtype\": \"number\",\n        \"std\": 2886,\n        \"min\": 1,\n        \"max\": 10000,\n        \"num_unique_values\": 10000,\n        \"samples\": [\n          6253,\n          4685,\n          1732\n        ],\n        \"semantic_type\": \"\",\n        \"description\": \"\"\n      }\n    },\n    {\n      \"column\": \"CustomerId\",\n      \"properties\": {\n        \"dtype\": \"number\",\n        \"std\": 71936,\n        \"min\": 15565701,\n        \"max\": 15815690,\n        \"num_unique_values\": 10000,\n        \"samples\": [\n          15687492,\n          15736963,\n          15721730\n        ],\n        \"semantic_type\": \"\",\n        \"description\": \"\"\n      }\n    },\n    {\n      \"column\": \"Surname\",\n      \"properties\": {\n        \"dtype\": \"category\",\n        \"num_unique_values\": 2932,\n        \"samples\": [\n          \"McGuirk\",\n          \"Torkelson\",\n          \"Rapuluchukwu\"\n        ],\n        \"semantic_type\": \"\",\n        \"description\": \"\"\n      }\n    },\n    {\n      \"column\": \"CreditScore\",\n      \"properties\": {\n        \"dtype\": \"number\",\n        \"std\": 96,\n        \"min\": 350,\n        \"max\": 850,\n        \"num_unique_values\": 460,\n        \"samples\": [\n          754,\n          533,\n          744\n        ],\n        \"semantic_type\": \"\",\n        \"description\": \"\"\n      }\n    },\n    {\n      \"column\": \"Geography\",\n      \"properties\": {\n        \"dtype\": \"category\",\n        \"num_unique_values\": 3,\n        \"samples\": [\n          \"France\",\n          \"Spain\",\n          \"Germany\"\n        ],\n        \"semantic_type\": \"\",\n        \"description\": \"\"\n      }\n    },\n    {\n      \"column\": \"Gender\",\n      \"properties\": {\n        \"dtype\": \"category\",\n        \"num_unique_values\": 2,\n        \"samples\": [\n          \"Male\",\n          \"Female\"\n        ],\n        \"semantic_type\": \"\",\n        \"description\": \"\"\n      }\n    },\n    {\n      \"column\": \"Age\",\n      \"properties\": {\n        \"dtype\": \"number\",\n        \"std\": 10,\n        \"min\": 18,\n        \"max\": 92,\n        \"num_unique_values\": 70,\n        \"samples\": [\n          61,\n          42\n        ],\n        \"semantic_type\": \"\",\n        \"description\": \"\"\n      }\n    },\n    {\n      \"column\": \"Tenure\",\n      \"properties\": {\n        \"dtype\": \"number\",\n        \"std\": 2,\n        \"min\": 0,\n        \"max\": 10,\n        \"num_unique_values\": 11,\n        \"samples\": [\n          6,\n          2\n        ],\n        \"semantic_type\": \"\",\n        \"description\": \"\"\n      }\n    },\n    {\n      \"column\": \"Balance\",\n      \"properties\": {\n        \"dtype\": \"number\",\n        \"std\": 62397.405202385955,\n        \"min\": 0.0,\n        \"max\": 250898.09,\n        \"num_unique_values\": 6382,\n        \"samples\": [\n          117707.18,\n          133050.97\n        ],\n        \"semantic_type\": \"\",\n        \"description\": \"\"\n      }\n    },\n    {\n      \"column\": \"NumOfProducts\",\n      \"properties\": {\n        \"dtype\": \"number\",\n        \"std\": 0,\n        \"min\": 1,\n        \"max\": 4,\n        \"num_unique_values\": 4,\n        \"samples\": [\n          3,\n          4\n        ],\n        \"semantic_type\": \"\",\n        \"description\": \"\"\n      }\n    },\n    {\n      \"column\": \"HasCrCard\",\n      \"properties\": {\n        \"dtype\": \"number\",\n        \"std\": 0,\n        \"min\": 0,\n        \"max\": 1,\n        \"num_unique_values\": 2,\n        \"samples\": [\n          0,\n          1\n        ],\n        \"semantic_type\": \"\",\n        \"description\": \"\"\n      }\n    },\n    {\n      \"column\": \"IsActiveMember\",\n      \"properties\": {\n        \"dtype\": \"number\",\n        \"std\": 0,\n        \"min\": 0,\n        \"max\": 1,\n        \"num_unique_values\": 2,\n        \"samples\": [\n          0,\n          1\n        ],\n        \"semantic_type\": \"\",\n        \"description\": \"\"\n      }\n    },\n    {\n      \"column\": \"EstimatedSalary\",\n      \"properties\": {\n        \"dtype\": \"number\",\n        \"std\": 57510.49281769816,\n        \"min\": 11.58,\n        \"max\": 199992.48,\n        \"num_unique_values\": 9999,\n        \"samples\": [\n          100809.99,\n          95273.73\n        ],\n        \"semantic_type\": \"\",\n        \"description\": \"\"\n      }\n    },\n    {\n      \"column\": \"Exited\",\n      \"properties\": {\n        \"dtype\": \"number\",\n        \"std\": 0,\n        \"min\": 0,\n        \"max\": 1,\n        \"num_unique_values\": 2,\n        \"samples\": [\n          0,\n          1\n        ],\n        \"semantic_type\": \"\",\n        \"description\": \"\"\n      }\n    }\n  ]\n}",
              "type": "dataframe",
              "variable_name": "churn"
            },
            "text/html": [
              "\n",
              "  <div id=\"df-77951c32-5d51-47db-9df9-69de277d870d\" class=\"colab-df-container\">\n",
              "    <div>\n",
              "<style scoped>\n",
              "    .dataframe tbody tr th:only-of-type {\n",
              "        vertical-align: middle;\n",
              "    }\n",
              "\n",
              "    .dataframe tbody tr th {\n",
              "        vertical-align: top;\n",
              "    }\n",
              "\n",
              "    .dataframe thead th {\n",
              "        text-align: right;\n",
              "    }\n",
              "</style>\n",
              "<table border=\"1\" class=\"dataframe\">\n",
              "  <thead>\n",
              "    <tr style=\"text-align: right;\">\n",
              "      <th></th>\n",
              "      <th>RowNumber</th>\n",
              "      <th>CustomerId</th>\n",
              "      <th>Surname</th>\n",
              "      <th>CreditScore</th>\n",
              "      <th>Geography</th>\n",
              "      <th>Gender</th>\n",
              "      <th>Age</th>\n",
              "      <th>Tenure</th>\n",
              "      <th>Balance</th>\n",
              "      <th>NumOfProducts</th>\n",
              "      <th>HasCrCard</th>\n",
              "      <th>IsActiveMember</th>\n",
              "      <th>EstimatedSalary</th>\n",
              "      <th>Exited</th>\n",
              "    </tr>\n",
              "  </thead>\n",
              "  <tbody>\n",
              "    <tr>\n",
              "      <th>0</th>\n",
              "      <td>1</td>\n",
              "      <td>15634602</td>\n",
              "      <td>Hargrave</td>\n",
              "      <td>619</td>\n",
              "      <td>France</td>\n",
              "      <td>Female</td>\n",
              "      <td>42</td>\n",
              "      <td>2</td>\n",
              "      <td>0.00</td>\n",
              "      <td>1</td>\n",
              "      <td>1</td>\n",
              "      <td>1</td>\n",
              "      <td>101348.88</td>\n",
              "      <td>1</td>\n",
              "    </tr>\n",
              "    <tr>\n",
              "      <th>1</th>\n",
              "      <td>2</td>\n",
              "      <td>15647311</td>\n",
              "      <td>Hill</td>\n",
              "      <td>608</td>\n",
              "      <td>Spain</td>\n",
              "      <td>Female</td>\n",
              "      <td>41</td>\n",
              "      <td>1</td>\n",
              "      <td>83807.86</td>\n",
              "      <td>1</td>\n",
              "      <td>0</td>\n",
              "      <td>1</td>\n",
              "      <td>112542.58</td>\n",
              "      <td>0</td>\n",
              "    </tr>\n",
              "    <tr>\n",
              "      <th>2</th>\n",
              "      <td>3</td>\n",
              "      <td>15619304</td>\n",
              "      <td>Onio</td>\n",
              "      <td>502</td>\n",
              "      <td>France</td>\n",
              "      <td>Female</td>\n",
              "      <td>42</td>\n",
              "      <td>8</td>\n",
              "      <td>159660.80</td>\n",
              "      <td>3</td>\n",
              "      <td>1</td>\n",
              "      <td>0</td>\n",
              "      <td>113931.57</td>\n",
              "      <td>1</td>\n",
              "    </tr>\n",
              "    <tr>\n",
              "      <th>3</th>\n",
              "      <td>4</td>\n",
              "      <td>15701354</td>\n",
              "      <td>Boni</td>\n",
              "      <td>699</td>\n",
              "      <td>France</td>\n",
              "      <td>Female</td>\n",
              "      <td>39</td>\n",
              "      <td>1</td>\n",
              "      <td>0.00</td>\n",
              "      <td>2</td>\n",
              "      <td>0</td>\n",
              "      <td>0</td>\n",
              "      <td>93826.63</td>\n",
              "      <td>0</td>\n",
              "    </tr>\n",
              "    <tr>\n",
              "      <th>4</th>\n",
              "      <td>5</td>\n",
              "      <td>15737888</td>\n",
              "      <td>Mitchell</td>\n",
              "      <td>850</td>\n",
              "      <td>Spain</td>\n",
              "      <td>Female</td>\n",
              "      <td>43</td>\n",
              "      <td>2</td>\n",
              "      <td>125510.82</td>\n",
              "      <td>1</td>\n",
              "      <td>1</td>\n",
              "      <td>1</td>\n",
              "      <td>79084.10</td>\n",
              "      <td>0</td>\n",
              "    </tr>\n",
              "  </tbody>\n",
              "</table>\n",
              "</div>\n",
              "    <div class=\"colab-df-buttons\">\n",
              "\n",
              "  <div class=\"colab-df-container\">\n",
              "    <button class=\"colab-df-convert\" onclick=\"convertToInteractive('df-77951c32-5d51-47db-9df9-69de277d870d')\"\n",
              "            title=\"Convert this dataframe to an interactive table.\"\n",
              "            style=\"display:none;\">\n",
              "\n",
              "  <svg xmlns=\"http://www.w3.org/2000/svg\" height=\"24px\" viewBox=\"0 -960 960 960\">\n",
              "    <path d=\"M120-120v-720h720v720H120Zm60-500h600v-160H180v160Zm220 220h160v-160H400v160Zm0 220h160v-160H400v160ZM180-400h160v-160H180v160Zm440 0h160v-160H620v160ZM180-180h160v-160H180v160Zm440 0h160v-160H620v160Z\"/>\n",
              "  </svg>\n",
              "    </button>\n",
              "\n",
              "  <style>\n",
              "    .colab-df-container {\n",
              "      display:flex;\n",
              "      gap: 12px;\n",
              "    }\n",
              "\n",
              "    .colab-df-convert {\n",
              "      background-color: #E8F0FE;\n",
              "      border: none;\n",
              "      border-radius: 50%;\n",
              "      cursor: pointer;\n",
              "      display: none;\n",
              "      fill: #1967D2;\n",
              "      height: 32px;\n",
              "      padding: 0 0 0 0;\n",
              "      width: 32px;\n",
              "    }\n",
              "\n",
              "    .colab-df-convert:hover {\n",
              "      background-color: #E2EBFA;\n",
              "      box-shadow: 0px 1px 2px rgba(60, 64, 67, 0.3), 0px 1px 3px 1px rgba(60, 64, 67, 0.15);\n",
              "      fill: #174EA6;\n",
              "    }\n",
              "\n",
              "    .colab-df-buttons div {\n",
              "      margin-bottom: 4px;\n",
              "    }\n",
              "\n",
              "    [theme=dark] .colab-df-convert {\n",
              "      background-color: #3B4455;\n",
              "      fill: #D2E3FC;\n",
              "    }\n",
              "\n",
              "    [theme=dark] .colab-df-convert:hover {\n",
              "      background-color: #434B5C;\n",
              "      box-shadow: 0px 1px 3px 1px rgba(0, 0, 0, 0.15);\n",
              "      filter: drop-shadow(0px 1px 2px rgba(0, 0, 0, 0.3));\n",
              "      fill: #FFFFFF;\n",
              "    }\n",
              "  </style>\n",
              "\n",
              "    <script>\n",
              "      const buttonEl =\n",
              "        document.querySelector('#df-77951c32-5d51-47db-9df9-69de277d870d button.colab-df-convert');\n",
              "      buttonEl.style.display =\n",
              "        google.colab.kernel.accessAllowed ? 'block' : 'none';\n",
              "\n",
              "      async function convertToInteractive(key) {\n",
              "        const element = document.querySelector('#df-77951c32-5d51-47db-9df9-69de277d870d');\n",
              "        const dataTable =\n",
              "          await google.colab.kernel.invokeFunction('convertToInteractive',\n",
              "                                                    [key], {});\n",
              "        if (!dataTable) return;\n",
              "\n",
              "        const docLinkHtml = 'Like what you see? Visit the ' +\n",
              "          '<a target=\"_blank\" href=https://colab.research.google.com/notebooks/data_table.ipynb>data table notebook</a>'\n",
              "          + ' to learn more about interactive tables.';\n",
              "        element.innerHTML = '';\n",
              "        dataTable['output_type'] = 'display_data';\n",
              "        await google.colab.output.renderOutput(dataTable, element);\n",
              "        const docLink = document.createElement('div');\n",
              "        docLink.innerHTML = docLinkHtml;\n",
              "        element.appendChild(docLink);\n",
              "      }\n",
              "    </script>\n",
              "  </div>\n",
              "\n",
              "\n",
              "<div id=\"df-cf236683-fbf5-4b04-9882-451f9ef952ed\">\n",
              "  <button class=\"colab-df-quickchart\" onclick=\"quickchart('df-cf236683-fbf5-4b04-9882-451f9ef952ed')\"\n",
              "            title=\"Suggest charts\"\n",
              "            style=\"display:none;\">\n",
              "\n",
              "<svg xmlns=\"http://www.w3.org/2000/svg\" height=\"24px\"viewBox=\"0 0 24 24\"\n",
              "     width=\"24px\">\n",
              "    <g>\n",
              "        <path d=\"M19 3H5c-1.1 0-2 .9-2 2v14c0 1.1.9 2 2 2h14c1.1 0 2-.9 2-2V5c0-1.1-.9-2-2-2zM9 17H7v-7h2v7zm4 0h-2V7h2v10zm4 0h-2v-4h2v4z\"/>\n",
              "    </g>\n",
              "</svg>\n",
              "  </button>\n",
              "\n",
              "<style>\n",
              "  .colab-df-quickchart {\n",
              "      --bg-color: #E8F0FE;\n",
              "      --fill-color: #1967D2;\n",
              "      --hover-bg-color: #E2EBFA;\n",
              "      --hover-fill-color: #174EA6;\n",
              "      --disabled-fill-color: #AAA;\n",
              "      --disabled-bg-color: #DDD;\n",
              "  }\n",
              "\n",
              "  [theme=dark] .colab-df-quickchart {\n",
              "      --bg-color: #3B4455;\n",
              "      --fill-color: #D2E3FC;\n",
              "      --hover-bg-color: #434B5C;\n",
              "      --hover-fill-color: #FFFFFF;\n",
              "      --disabled-bg-color: #3B4455;\n",
              "      --disabled-fill-color: #666;\n",
              "  }\n",
              "\n",
              "  .colab-df-quickchart {\n",
              "    background-color: var(--bg-color);\n",
              "    border: none;\n",
              "    border-radius: 50%;\n",
              "    cursor: pointer;\n",
              "    display: none;\n",
              "    fill: var(--fill-color);\n",
              "    height: 32px;\n",
              "    padding: 0;\n",
              "    width: 32px;\n",
              "  }\n",
              "\n",
              "  .colab-df-quickchart:hover {\n",
              "    background-color: var(--hover-bg-color);\n",
              "    box-shadow: 0 1px 2px rgba(60, 64, 67, 0.3), 0 1px 3px 1px rgba(60, 64, 67, 0.15);\n",
              "    fill: var(--button-hover-fill-color);\n",
              "  }\n",
              "\n",
              "  .colab-df-quickchart-complete:disabled,\n",
              "  .colab-df-quickchart-complete:disabled:hover {\n",
              "    background-color: var(--disabled-bg-color);\n",
              "    fill: var(--disabled-fill-color);\n",
              "    box-shadow: none;\n",
              "  }\n",
              "\n",
              "  .colab-df-spinner {\n",
              "    border: 2px solid var(--fill-color);\n",
              "    border-color: transparent;\n",
              "    border-bottom-color: var(--fill-color);\n",
              "    animation:\n",
              "      spin 1s steps(1) infinite;\n",
              "  }\n",
              "\n",
              "  @keyframes spin {\n",
              "    0% {\n",
              "      border-color: transparent;\n",
              "      border-bottom-color: var(--fill-color);\n",
              "      border-left-color: var(--fill-color);\n",
              "    }\n",
              "    20% {\n",
              "      border-color: transparent;\n",
              "      border-left-color: var(--fill-color);\n",
              "      border-top-color: var(--fill-color);\n",
              "    }\n",
              "    30% {\n",
              "      border-color: transparent;\n",
              "      border-left-color: var(--fill-color);\n",
              "      border-top-color: var(--fill-color);\n",
              "      border-right-color: var(--fill-color);\n",
              "    }\n",
              "    40% {\n",
              "      border-color: transparent;\n",
              "      border-right-color: var(--fill-color);\n",
              "      border-top-color: var(--fill-color);\n",
              "    }\n",
              "    60% {\n",
              "      border-color: transparent;\n",
              "      border-right-color: var(--fill-color);\n",
              "    }\n",
              "    80% {\n",
              "      border-color: transparent;\n",
              "      border-right-color: var(--fill-color);\n",
              "      border-bottom-color: var(--fill-color);\n",
              "    }\n",
              "    90% {\n",
              "      border-color: transparent;\n",
              "      border-bottom-color: var(--fill-color);\n",
              "    }\n",
              "  }\n",
              "</style>\n",
              "\n",
              "  <script>\n",
              "    async function quickchart(key) {\n",
              "      const quickchartButtonEl =\n",
              "        document.querySelector('#' + key + ' button');\n",
              "      quickchartButtonEl.disabled = true;  // To prevent multiple clicks.\n",
              "      quickchartButtonEl.classList.add('colab-df-spinner');\n",
              "      try {\n",
              "        const charts = await google.colab.kernel.invokeFunction(\n",
              "            'suggestCharts', [key], {});\n",
              "      } catch (error) {\n",
              "        console.error('Error during call to suggestCharts:', error);\n",
              "      }\n",
              "      quickchartButtonEl.classList.remove('colab-df-spinner');\n",
              "      quickchartButtonEl.classList.add('colab-df-quickchart-complete');\n",
              "    }\n",
              "    (() => {\n",
              "      let quickchartButtonEl =\n",
              "        document.querySelector('#df-cf236683-fbf5-4b04-9882-451f9ef952ed button');\n",
              "      quickchartButtonEl.style.display =\n",
              "        google.colab.kernel.accessAllowed ? 'block' : 'none';\n",
              "    })();\n",
              "  </script>\n",
              "</div>\n",
              "\n",
              "    </div>\n",
              "  </div>\n"
            ],
            "text/plain": [
              "   RowNumber  CustomerId   Surname  CreditScore Geography  Gender  Age  \\\n",
              "0          1    15634602  Hargrave          619    France  Female   42   \n",
              "1          2    15647311      Hill          608     Spain  Female   41   \n",
              "2          3    15619304      Onio          502    France  Female   42   \n",
              "3          4    15701354      Boni          699    France  Female   39   \n",
              "4          5    15737888  Mitchell          850     Spain  Female   43   \n",
              "\n",
              "   Tenure    Balance  NumOfProducts  HasCrCard  IsActiveMember  \\\n",
              "0       2       0.00              1          1               1   \n",
              "1       1   83807.86              1          0               1   \n",
              "2       8  159660.80              3          1               0   \n",
              "3       1       0.00              2          0               0   \n",
              "4       2  125510.82              1          1               1   \n",
              "\n",
              "   EstimatedSalary  Exited  \n",
              "0        101348.88       1  \n",
              "1        112542.58       0  \n",
              "2        113931.57       1  \n",
              "3         93826.63       0  \n",
              "4         79084.10       0  "
            ]
          },
          "execution_count": 5,
          "metadata": {},
          "output_type": "execute_result"
        }
      ],
      "source": [
        "#displaying the first five rows of the dataframe using the head command\n",
        "churn.head(5)"
      ]
    },
    {
      "cell_type": "code",
      "execution_count": null,
      "metadata": {
        "colab": {
          "base_uri": "https://localhost:8080/",
          "height": 328
        },
        "id": "tyHOCIkJElVT",
        "outputId": "cf33d219-9108-484a-947b-ddd89ecfe2fb"
      },
      "outputs": [
        {
          "data": {
            "text/plain": [
              "<Axes: xlabel='Exited', ylabel='count'>"
            ]
          },
          "execution_count": 6,
          "metadata": {},
          "output_type": "execute_result"
        },
        {
          "data": {
            "image/png": "[encoded data removed]",
            "text/plain": [
              "<Figure size 400x300 with 1 Axes>"
            ]
          },
          "metadata": {},
          "output_type": "display_data"
        }
      ],
      "source": [
        "#countplot of the exited customers reprsented by 1 and represented by 0 those who are note exited\n",
        "plt.figure(figsize=(4,3))\n",
        "sns.countplot(x='Exited',data=churn)"
      ]
    },
    {
      "cell_type": "code",
      "execution_count": null,
      "metadata": {
        "colab": {
          "base_uri": "https://localhost:8080/"
        },
        "id": "STKPHzSRFH6c",
        "outputId": "11cf27b7-c717-4e52-8357-2eca2a59e599"
      },
      "outputs": [
        {
          "name": "stdout",
          "output_type": "stream",
          "text": [
            "<class 'pandas.core.frame.DataFrame'>\n",
            "RangeIndex: 10000 entries, 0 to 9999\n",
            "Data columns (total 11 columns):\n",
            " #   Column           Non-Null Count  Dtype  \n",
            "---  ------           --------------  -----  \n",
            " 0   RowNumber        10000 non-null  int64  \n",
            " 1   CustomerId       10000 non-null  int64  \n",
            " 2   CreditScore      10000 non-null  int64  \n",
            " 3   Age              10000 non-null  int64  \n",
            " 4   Tenure           10000 non-null  int64  \n",
            " 5   Balance          10000 non-null  float64\n",
            " 6   NumOfProducts    10000 non-null  int64  \n",
            " 7   HasCrCard        10000 non-null  int64  \n",
            " 8   IsActiveMember   10000 non-null  int64  \n",
            " 9   EstimatedSalary  10000 non-null  float64\n",
            " 10  Exited           10000 non-null  int64  \n",
            "dtypes: float64(2), int64(9)\n",
            "memory usage: 859.5 KB\n"
          ]
        }
      ],
      "source": [
        "#dropping the unwanted labels\n",
        "churn=churn.drop(labels={'Gender','Geography','Surname'},axis=1)\n",
        "#info the dataset\n",
        "churn.info()"
      ]
    },
    {
      "cell_type": "code",
      "execution_count": null,
      "metadata": {
        "id": "1l6nkM4jFbzR"
      },
      "outputs": [],
      "source": [
        "#features to be selected as predictors\n",
        "selected_features=['RowNumber','CustomerId','CreditScore','Age','Tenure','Balance'\n",
        ",'NumOfProducts','HasCrCard','IsActiveMember','EstimatedSalary']\n",
        "#taking X as predictor and y as target variable\n",
        "X=churn[selected_features]\n",
        "Y=churn['Exited']"
      ]
    },
    {
      "cell_type": "code",
      "execution_count": null,
      "metadata": {
        "colab": {
          "base_uri": "https://localhost:8080/",
          "height": 423
        },
        "id": "fclS7RxHHKeH",
        "outputId": "259c48f7-5b0b-40d3-eb95-4f6235119689"
      },
      "outputs": [
        {
          "data": {
            "application/vnd.google.colaboratory.intrinsic+json": {
              "summary": "{\n  \"name\": \"X\",\n  \"rows\": 10000,\n  \"fields\": [\n    {\n      \"column\": \"RowNumber\",\n      \"properties\": {\n        \"dtype\": \"number\",\n        \"std\": 2886,\n        \"min\": 1,\n        \"max\": 10000,\n        \"num_unique_values\": 10000,\n        \"samples\": [\n          6253,\n          4685,\n          1732\n        ],\n        \"semantic_type\": \"\",\n        \"description\": \"\"\n      }\n    },\n    {\n      \"column\": \"CustomerId\",\n      \"properties\": {\n        \"dtype\": \"number\",\n        \"std\": 71936,\n        \"min\": 15565701,\n        \"max\": 15815690,\n        \"num_unique_values\": 10000,\n        \"samples\": [\n          15687492,\n          15736963,\n          15721730\n        ],\n        \"semantic_type\": \"\",\n        \"description\": \"\"\n      }\n    },\n    {\n      \"column\": \"CreditScore\",\n      \"properties\": {\n        \"dtype\": \"number\",\n        \"std\": 96,\n        \"min\": 350,\n        \"max\": 850,\n        \"num_unique_values\": 460,\n        \"samples\": [\n          754,\n          533,\n          744\n        ],\n        \"semantic_type\": \"\",\n        \"description\": \"\"\n      }\n    },\n    {\n      \"column\": \"Age\",\n      \"properties\": {\n        \"dtype\": \"number\",\n        \"std\": 10,\n        \"min\": 18,\n        \"max\": 92,\n        \"num_unique_values\": 70,\n        \"samples\": [\n          61,\n          42,\n          59\n        ],\n        \"semantic_type\": \"\",\n        \"description\": \"\"\n      }\n    },\n    {\n      \"column\": \"Tenure\",\n      \"properties\": {\n        \"dtype\": \"number\",\n        \"std\": 2,\n        \"min\": 0,\n        \"max\": 10,\n        \"num_unique_values\": 11,\n        \"samples\": [\n          6,\n          2,\n          9\n        ],\n        \"semantic_type\": \"\",\n        \"description\": \"\"\n      }\n    },\n    {\n      \"column\": \"Balance\",\n      \"properties\": {\n        \"dtype\": \"number\",\n        \"std\": 62397.405202385955,\n        \"min\": 0.0,\n        \"max\": 250898.09,\n        \"num_unique_values\": 6382,\n        \"samples\": [\n          117707.18,\n          133050.97,\n          124271.26\n        ],\n        \"semantic_type\": \"\",\n        \"description\": \"\"\n      }\n    },\n    {\n      \"column\": \"NumOfProducts\",\n      \"properties\": {\n        \"dtype\": \"number\",\n        \"std\": 0,\n        \"min\": 1,\n        \"max\": 4,\n        \"num_unique_values\": 4,\n        \"samples\": [\n          3,\n          4,\n          1\n        ],\n        \"semantic_type\": \"\",\n        \"description\": \"\"\n      }\n    },\n    {\n      \"column\": \"HasCrCard\",\n      \"properties\": {\n        \"dtype\": \"number\",\n        \"std\": 0,\n        \"min\": 0,\n        \"max\": 1,\n        \"num_unique_values\": 2,\n        \"samples\": [\n          0,\n          1\n        ],\n        \"semantic_type\": \"\",\n        \"description\": \"\"\n      }\n    },\n    {\n      \"column\": \"IsActiveMember\",\n      \"properties\": {\n        \"dtype\": \"number\",\n        \"std\": 0,\n        \"min\": 0,\n        \"max\": 1,\n        \"num_unique_values\": 2,\n        \"samples\": [\n          0,\n          1\n        ],\n        \"semantic_type\": \"\",\n        \"description\": \"\"\n      }\n    },\n    {\n      \"column\": \"EstimatedSalary\",\n      \"properties\": {\n        \"dtype\": \"number\",\n        \"std\": 57510.49281769816,\n        \"min\": 11.58,\n        \"max\": 199992.48,\n        \"num_unique_values\": 9999,\n        \"samples\": [\n          100809.99,\n          95273.73\n        ],\n        \"semantic_type\": \"\",\n        \"description\": \"\"\n      }\n    }\n  ]\n}",
              "type": "dataframe",
              "variable_name": "X"
            },
            "text/html": [
              "\n",
              "  <div id=\"df-47241b9e-0f48-4c87-bd10-1fc98822335d\" class=\"colab-df-container\">\n",
              "    <div>\n",
              "<style scoped>\n",
              "    .dataframe tbody tr th:only-of-type {\n",
              "        vertical-align: middle;\n",
              "    }\n",
              "\n",
              "    .dataframe tbody tr th {\n",
              "        vertical-align: top;\n",
              "    }\n",
              "\n",
              "    .dataframe thead th {\n",
              "        text-align: right;\n",
              "    }\n",
              "</style>\n",
              "<table border=\"1\" class=\"dataframe\">\n",
              "  <thead>\n",
              "    <tr style=\"text-align: right;\">\n",
              "      <th></th>\n",
              "      <th>RowNumber</th>\n",
              "      <th>CustomerId</th>\n",
              "      <th>CreditScore</th>\n",
              "      <th>Age</th>\n",
              "      <th>Tenure</th>\n",
              "      <th>Balance</th>\n",
              "      <th>NumOfProducts</th>\n",
              "      <th>HasCrCard</th>\n",
              "      <th>IsActiveMember</th>\n",
              "      <th>EstimatedSalary</th>\n",
              "    </tr>\n",
              "  </thead>\n",
              "  <tbody>\n",
              "    <tr>\n",
              "      <th>0</th>\n",
              "      <td>1</td>\n",
              "      <td>15634602</td>\n",
              "      <td>619</td>\n",
              "      <td>42</td>\n",
              "      <td>2</td>\n",
              "      <td>0.00</td>\n",
              "      <td>1</td>\n",
              "      <td>1</td>\n",
              "      <td>1</td>\n",
              "      <td>101348.88</td>\n",
              "    </tr>\n",
              "    <tr>\n",
              "      <th>1</th>\n",
              "      <td>2</td>\n",
              "      <td>15647311</td>\n",
              "      <td>608</td>\n",
              "      <td>41</td>\n",
              "      <td>1</td>\n",
              "      <td>83807.86</td>\n",
              "      <td>1</td>\n",
              "      <td>0</td>\n",
              "      <td>1</td>\n",
              "      <td>112542.58</td>\n",
              "    </tr>\n",
              "    <tr>\n",
              "      <th>2</th>\n",
              "      <td>3</td>\n",
              "      <td>15619304</td>\n",
              "      <td>502</td>\n",
              "      <td>42</td>\n",
              "      <td>8</td>\n",
              "      <td>159660.80</td>\n",
              "      <td>3</td>\n",
              "      <td>1</td>\n",
              "      <td>0</td>\n",
              "      <td>113931.57</td>\n",
              "    </tr>\n",
              "    <tr>\n",
              "      <th>3</th>\n",
              "      <td>4</td>\n",
              "      <td>15701354</td>\n",
              "      <td>699</td>\n",
              "      <td>39</td>\n",
              "      <td>1</td>\n",
              "      <td>0.00</td>\n",
              "      <td>2</td>\n",
              "      <td>0</td>\n",
              "      <td>0</td>\n",
              "      <td>93826.63</td>\n",
              "    </tr>\n",
              "    <tr>\n",
              "      <th>4</th>\n",
              "      <td>5</td>\n",
              "      <td>15737888</td>\n",
              "      <td>850</td>\n",
              "      <td>43</td>\n",
              "      <td>2</td>\n",
              "      <td>125510.82</td>\n",
              "      <td>1</td>\n",
              "      <td>1</td>\n",
              "      <td>1</td>\n",
              "      <td>79084.10</td>\n",
              "    </tr>\n",
              "    <tr>\n",
              "      <th>...</th>\n",
              "      <td>...</td>\n",
              "      <td>...</td>\n",
              "      <td>...</td>\n",
              "      <td>...</td>\n",
              "      <td>...</td>\n",
              "      <td>...</td>\n",
              "      <td>...</td>\n",
              "      <td>...</td>\n",
              "      <td>...</td>\n",
              "      <td>...</td>\n",
              "    </tr>\n",
              "    <tr>\n",
              "      <th>9995</th>\n",
              "      <td>9996</td>\n",
              "      <td>15606229</td>\n",
              "      <td>771</td>\n",
              "      <td>39</td>\n",
              "      <td>5</td>\n",
              "      <td>0.00</td>\n",
              "      <td>2</td>\n",
              "      <td>1</td>\n",
              "      <td>0</td>\n",
              "      <td>96270.64</td>\n",
              "    </tr>\n",
              "    <tr>\n",
              "      <th>9996</th>\n",
              "      <td>9997</td>\n",
              "      <td>15569892</td>\n",
              "      <td>516</td>\n",
              "      <td>35</td>\n",
              "      <td>10</td>\n",
              "      <td>57369.61</td>\n",
              "      <td>1</td>\n",
              "      <td>1</td>\n",
              "      <td>1</td>\n",
              "      <td>101699.77</td>\n",
              "    </tr>\n",
              "    <tr>\n",
              "      <th>9997</th>\n",
              "      <td>9998</td>\n",
              "      <td>15584532</td>\n",
              "      <td>709</td>\n",
              "      <td>36</td>\n",
              "      <td>7</td>\n",
              "      <td>0.00</td>\n",
              "      <td>1</td>\n",
              "      <td>0</td>\n",
              "      <td>1</td>\n",
              "      <td>42085.58</td>\n",
              "    </tr>\n",
              "    <tr>\n",
              "      <th>9998</th>\n",
              "      <td>9999</td>\n",
              "      <td>15682355</td>\n",
              "      <td>772</td>\n",
              "      <td>42</td>\n",
              "      <td>3</td>\n",
              "      <td>75075.31</td>\n",
              "      <td>2</td>\n",
              "      <td>1</td>\n",
              "      <td>0</td>\n",
              "      <td>92888.52</td>\n",
              "    </tr>\n",
              "    <tr>\n",
              "      <th>9999</th>\n",
              "      <td>10000</td>\n",
              "      <td>15628319</td>\n",
              "      <td>792</td>\n",
              "      <td>28</td>\n",
              "      <td>4</td>\n",
              "      <td>130142.79</td>\n",
              "      <td>1</td>\n",
              "      <td>1</td>\n",
              "      <td>0</td>\n",
              "      <td>38190.78</td>\n",
              "    </tr>\n",
              "  </tbody>\n",
              "</table>\n",
              "<p>10000 rows × 10 columns</p>\n",
              "</div>\n",
              "    <div class=\"colab-df-buttons\">\n",
              "\n",
              "  <div class=\"colab-df-container\">\n",
              "    <button class=\"colab-df-convert\" onclick=\"convertToInteractive('df-47241b9e-0f48-4c87-bd10-1fc98822335d')\"\n",
              "            title=\"Convert this dataframe to an interactive table.\"\n",
              "            style=\"display:none;\">\n",
              "\n",
              "  <svg xmlns=\"http://www.w3.org/2000/svg\" height=\"24px\" viewBox=\"0 -960 960 960\">\n",
              "    <path d=\"M120-120v-720h720v720H120Zm60-500h600v-160H180v160Zm220 220h160v-160H400v160Zm0 220h160v-160H400v160ZM180-400h160v-160H180v160Zm440 0h160v-160H620v160ZM180-180h160v-160H180v160Zm440 0h160v-160H620v160Z\"/>\n",
              "  </svg>\n",
              "    </button>\n",
              "\n",
              "  <style>\n",
              "    .colab-df-container {\n",
              "      display:flex;\n",
              "      gap: 12px;\n",
              "    }\n",
              "\n",
              "    .colab-df-convert {\n",
              "      background-color: #E8F0FE;\n",
              "      border: none;\n",
              "      border-radius: 50%;\n",
              "      cursor: pointer;\n",
              "      display: none;\n",
              "      fill: #1967D2;\n",
              "      height: 32px;\n",
              "      padding: 0 0 0 0;\n",
              "      width: 32px;\n",
              "    }\n",
              "\n",
              "    .colab-df-convert:hover {\n",
              "      background-color: #E2EBFA;\n",
              "      box-shadow: 0px 1px 2px rgba(60, 64, 67, 0.3), 0px 1px 3px 1px rgba(60, 64, 67, 0.15);\n",
              "      fill: #174EA6;\n",
              "    }\n",
              "\n",
              "    .colab-df-buttons div {\n",
              "      margin-bottom: 4px;\n",
              "    }\n",
              "\n",
              "    [theme=dark] .colab-df-convert {\n",
              "      background-color: #3B4455;\n",
              "      fill: #D2E3FC;\n",
              "    }\n",
              "\n",
              "    [theme=dark] .colab-df-convert:hover {\n",
              "      background-color: #434B5C;\n",
              "      box-shadow: 0px 1px 3px 1px rgba(0, 0, 0, 0.15);\n",
              "      filter: drop-shadow(0px 1px 2px rgba(0, 0, 0, 0.3));\n",
              "      fill: #FFFFFF;\n",
              "    }\n",
              "  </style>\n",
              "\n",
              "    <script>\n",
              "      const buttonEl =\n",
              "        document.querySelector('#df-47241b9e-0f48-4c87-bd10-1fc98822335d button.colab-df-convert');\n",
              "      buttonEl.style.display =\n",
              "        google.colab.kernel.accessAllowed ? 'block' : 'none';\n",
              "\n",
              "      async function convertToInteractive(key) {\n",
              "        const element = document.querySelector('#df-47241b9e-0f48-4c87-bd10-1fc98822335d');\n",
              "        const dataTable =\n",
              "          await google.colab.kernel.invokeFunction('convertToInteractive',\n",
              "                                                    [key], {});\n",
              "        if (!dataTable) return;\n",
              "\n",
              "        const docLinkHtml = 'Like what you see? Visit the ' +\n",
              "          '<a target=\"_blank\" href=https://colab.research.google.com/notebooks/data_table.ipynb>data table notebook</a>'\n",
              "          + ' to learn more about interactive tables.';\n",
              "        element.innerHTML = '';\n",
              "        dataTable['output_type'] = 'display_data';\n",
              "        await google.colab.output.renderOutput(dataTable, element);\n",
              "        const docLink = document.createElement('div');\n",
              "        docLink.innerHTML = docLinkHtml;\n",
              "        element.appendChild(docLink);\n",
              "      }\n",
              "    </script>\n",
              "  </div>\n",
              "\n",
              "\n",
              "<div id=\"df-1e21a502-f4dc-44a7-a7e5-d3fde79d49cd\">\n",
              "  <button class=\"colab-df-quickchart\" onclick=\"quickchart('df-1e21a502-f4dc-44a7-a7e5-d3fde79d49cd')\"\n",
              "            title=\"Suggest charts\"\n",
              "            style=\"display:none;\">\n",
              "\n",
              "<svg xmlns=\"http://www.w3.org/2000/svg\" height=\"24px\"viewBox=\"0 0 24 24\"\n",
              "     width=\"24px\">\n",
              "    <g>\n",
              "        <path d=\"M19 3H5c-1.1 0-2 .9-2 2v14c0 1.1.9 2 2 2h14c1.1 0 2-.9 2-2V5c0-1.1-.9-2-2-2zM9 17H7v-7h2v7zm4 0h-2V7h2v10zm4 0h-2v-4h2v4z\"/>\n",
              "    </g>\n",
              "</svg>\n",
              "  </button>\n",
              "\n",
              "<style>\n",
              "  .colab-df-quickchart {\n",
              "      --bg-color: #E8F0FE;\n",
              "      --fill-color: #1967D2;\n",
              "      --hover-bg-color: #E2EBFA;\n",
              "      --hover-fill-color: #174EA6;\n",
              "      --disabled-fill-color: #AAA;\n",
              "      --disabled-bg-color: #DDD;\n",
              "  }\n",
              "\n",
              "  [theme=dark] .colab-df-quickchart {\n",
              "      --bg-color: #3B4455;\n",
              "      --fill-color: #D2E3FC;\n",
              "      --hover-bg-color: #434B5C;\n",
              "      --hover-fill-color: #FFFFFF;\n",
              "      --disabled-bg-color: #3B4455;\n",
              "      --disabled-fill-color: #666;\n",
              "  }\n",
              "\n",
              "  .colab-df-quickchart {\n",
              "    background-color: var(--bg-color);\n",
              "    border: none;\n",
              "    border-radius: 50%;\n",
              "    cursor: pointer;\n",
              "    display: none;\n",
              "    fill: var(--fill-color);\n",
              "    height: 32px;\n",
              "    padding: 0;\n",
              "    width: 32px;\n",
              "  }\n",
              "\n",
              "  .colab-df-quickchart:hover {\n",
              "    background-color: var(--hover-bg-color);\n",
              "    box-shadow: 0 1px 2px rgba(60, 64, 67, 0.3), 0 1px 3px 1px rgba(60, 64, 67, 0.15);\n",
              "    fill: var(--button-hover-fill-color);\n",
              "  }\n",
              "\n",
              "  .colab-df-quickchart-complete:disabled,\n",
              "  .colab-df-quickchart-complete:disabled:hover {\n",
              "    background-color: var(--disabled-bg-color);\n",
              "    fill: var(--disabled-fill-color);\n",
              "    box-shadow: none;\n",
              "  }\n",
              "\n",
              "  .colab-df-spinner {\n",
              "    border: 2px solid var(--fill-color);\n",
              "    border-color: transparent;\n",
              "    border-bottom-color: var(--fill-color);\n",
              "    animation:\n",
              "      spin 1s steps(1) infinite;\n",
              "  }\n",
              "\n",
              "  @keyframes spin {\n",
              "    0% {\n",
              "      border-color: transparent;\n",
              "      border-bottom-color: var(--fill-color);\n",
              "      border-left-color: var(--fill-color);\n",
              "    }\n",
              "    20% {\n",
              "      border-color: transparent;\n",
              "      border-left-color: var(--fill-color);\n",
              "      border-top-color: var(--fill-color);\n",
              "    }\n",
              "    30% {\n",
              "      border-color: transparent;\n",
              "      border-left-color: var(--fill-color);\n",
              "      border-top-color: var(--fill-color);\n",
              "      border-right-color: var(--fill-color);\n",
              "    }\n",
              "    40% {\n",
              "      border-color: transparent;\n",
              "      border-right-color: var(--fill-color);\n",
              "      border-top-color: var(--fill-color);\n",
              "    }\n",
              "    60% {\n",
              "      border-color: transparent;\n",
              "      border-right-color: var(--fill-color);\n",
              "    }\n",
              "    80% {\n",
              "      border-color: transparent;\n",
              "      border-right-color: var(--fill-color);\n",
              "      border-bottom-color: var(--fill-color);\n",
              "    }\n",
              "    90% {\n",
              "      border-color: transparent;\n",
              "      border-bottom-color: var(--fill-color);\n",
              "    }\n",
              "  }\n",
              "</style>\n",
              "\n",
              "  <script>\n",
              "    async function quickchart(key) {\n",
              "      const quickchartButtonEl =\n",
              "        document.querySelector('#' + key + ' button');\n",
              "      quickchartButtonEl.disabled = true;  // To prevent multiple clicks.\n",
              "      quickchartButtonEl.classList.add('colab-df-spinner');\n",
              "      try {\n",
              "        const charts = await google.colab.kernel.invokeFunction(\n",
              "            'suggestCharts', [key], {});\n",
              "      } catch (error) {\n",
              "        console.error('Error during call to suggestCharts:', error);\n",
              "      }\n",
              "      quickchartButtonEl.classList.remove('colab-df-spinner');\n",
              "      quickchartButtonEl.classList.add('colab-df-quickchart-complete');\n",
              "    }\n",
              "    (() => {\n",
              "      let quickchartButtonEl =\n",
              "        document.querySelector('#df-1e21a502-f4dc-44a7-a7e5-d3fde79d49cd button');\n",
              "      quickchartButtonEl.style.display =\n",
              "        google.colab.kernel.accessAllowed ? 'block' : 'none';\n",
              "    })();\n",
              "  </script>\n",
              "</div>\n",
              "\n",
              "  <div id=\"id_aca03d92-d041-4e06-97dd-6a6ef0bb488c\">\n",
              "    <style>\n",
              "      .colab-df-generate {\n",
              "        background-color: #E8F0FE;\n",
              "        border: none;\n",
              "        border-radius: 50%;\n",
              "        cursor: pointer;\n",
              "        display: none;\n",
              "        fill: #1967D2;\n",
              "        height: 32px;\n",
              "        padding: 0 0 0 0;\n",
              "        width: 32px;\n",
              "      }\n",
              "\n",
              "      .colab-df-generate:hover {\n",
              "        background-color: #E2EBFA;\n",
              "        box-shadow: 0px 1px 2px rgba(60, 64, 67, 0.3), 0px 1px 3px 1px rgba(60, 64, 67, 0.15);\n",
              "        fill: #174EA6;\n",
              "      }\n",
              "\n",
              "      [theme=dark] .colab-df-generate {\n",
              "        background-color: #3B4455;\n",
              "        fill: #D2E3FC;\n",
              "      }\n",
              "\n",
              "      [theme=dark] .colab-df-generate:hover {\n",
              "        background-color: #434B5C;\n",
              "        box-shadow: 0px 1px 3px 1px rgba(0, 0, 0, 0.15);\n",
              "        filter: drop-shadow(0px 1px 2px rgba(0, 0, 0, 0.3));\n",
              "        fill: #FFFFFF;\n",
              "      }\n",
              "    </style>\n",
              "    <button class=\"colab-df-generate\" onclick=\"generateWithVariable('X')\"\n",
              "            title=\"Generate code using this dataframe.\"\n",
              "            style=\"display:none;\">\n",
              "\n",
              "  <svg xmlns=\"http://www.w3.org/2000/svg\" height=\"24px\"viewBox=\"0 0 24 24\"\n",
              "       width=\"24px\">\n",
              "    <path d=\"M7,19H8.4L18.45,9,17,7.55,7,17.6ZM5,21V16.75L18.45,3.32a2,2,0,0,1,2.83,0l1.4,1.43a1.91,1.91,0,0,1,.58,1.4,1.91,1.91,0,0,1-.58,1.4L9.25,21ZM18.45,9,17,7.55Zm-12,3A5.31,5.31,0,0,0,4.9,8.1,5.31,5.31,0,0,0,1,6.5,5.31,5.31,0,0,0,4.9,4.9,5.31,5.31,0,0,0,6.5,1,5.31,5.31,0,0,0,8.1,4.9,5.31,5.31,0,0,0,12,6.5,5.46,5.46,0,0,0,6.5,12Z\"/>\n",
              "  </svg>\n",
              "    </button>\n",
              "    <script>\n",
              "      (() => {\n",
              "      const buttonEl =\n",
              "        document.querySelector('#id_aca03d92-d041-4e06-97dd-6a6ef0bb488c button.colab-df-generate');\n",
              "      buttonEl.style.display =\n",
              "        google.colab.kernel.accessAllowed ? 'block' : 'none';\n",
              "\n",
              "      buttonEl.onclick = () => {\n",
              "        google.colab.notebook.generateWithVariable('X');\n",
              "      }\n",
              "      })();\n",
              "    </script>\n",
              "  </div>\n",
              "\n",
              "    </div>\n",
              "  </div>\n"
            ],
            "text/plain": [
              "      RowNumber  CustomerId  CreditScore  Age  Tenure    Balance  \\\n",
              "0             1    15634602          619   42       2       0.00   \n",
              "1             2    15647311          608   41       1   83807.86   \n",
              "2             3    15619304          502   42       8  159660.80   \n",
              "3             4    15701354          699   39       1       0.00   \n",
              "4             5    15737888          850   43       2  125510.82   \n",
              "...         ...         ...          ...  ...     ...        ...   \n",
              "9995       9996    15606229          771   39       5       0.00   \n",
              "9996       9997    15569892          516   35      10   57369.61   \n",
              "9997       9998    15584532          709   36       7       0.00   \n",
              "9998       9999    15682355          772   42       3   75075.31   \n",
              "9999      10000    15628319          792   28       4  130142.79   \n",
              "\n",
              "      NumOfProducts  HasCrCard  IsActiveMember  EstimatedSalary  \n",
              "0                 1          1               1        101348.88  \n",
              "1                 1          0               1        112542.58  \n",
              "2                 3          1               0        113931.57  \n",
              "3                 2          0               0         93826.63  \n",
              "4                 1          1               1         79084.10  \n",
              "...             ...        ...             ...              ...  \n",
              "9995              2          1               0         96270.64  \n",
              "9996              1          1               1        101699.77  \n",
              "9997              1          0               1         42085.58  \n",
              "9998              2          1               0         92888.52  \n",
              "9999              1          1               0         38190.78  \n",
              "\n",
              "[10000 rows x 10 columns]"
            ]
          },
          "execution_count": 9,
          "metadata": {},
          "output_type": "execute_result"
        }
      ],
      "source": [
        "X"
      ]
    },
    {
      "cell_type": "code",
      "execution_count": null,
      "metadata": {
        "colab": {
          "base_uri": "https://localhost:8080/"
        },
        "id": "rtqsx7prHNQy",
        "outputId": "8fe86762-f8b4-43fc-d2ae-0d8887b65376"
      },
      "outputs": [
        {
          "data": {
            "text/plain": [
              "0       1\n",
              "1       0\n",
              "2       1\n",
              "3       0\n",
              "4       0\n",
              "       ..\n",
              "9995    0\n",
              "9996    0\n",
              "9997    1\n",
              "9998    1\n",
              "9999    0\n",
              "Name: Exited, Length: 10000, dtype: int64"
            ]
          },
          "execution_count": 10,
          "metadata": {},
          "output_type": "execute_result"
        }
      ],
      "source": [
        "Y"
      ]
    },
    {
      "cell_type": "code",
      "execution_count": null,
      "metadata": {
        "id": "XQZLY167KDWh"
      },
      "outputs": [],
      "source": [
        "#normalizing the dataset using MinMaxScaler()\n",
        "scaler=MinMaxScaler()\n",
        "X_scaled=scaler.fit_transform(X)"
      ]
    },
    {
      "cell_type": "code",
      "execution_count": null,
      "metadata": {
        "id": "DNv_tSnjKXSG"
      },
      "outputs": [],
      "source": [
        "#Splitting the dataset into training and testing sets\n",
        "X_train,X_test,Y_train,Y_test=train_test_split(X_scaled,Y,test_size=0.2)\n"
      ]
    },
    {
      "cell_type": "markdown",
      "metadata": {
        "id": "xyzIWMsrNcRs"
      },
      "source": []
    },
    {
      "cell_type": "code",
      "execution_count": null,
      "metadata": {
        "id": "XbmyxSttLatA"
      },
      "outputs": [],
      "source": [
        "#imported ANN through keras API and tenserflow\n",
        "#ANN is just to check how it perform on the dataset\n",
        "tf.random.set_seed(42)\n",
        "classifier_model=tf.keras.models.Sequential()\n",
        "classifier_model.add(tf.keras.layers.Dense(units=100,activation='relu',input_shape=(10,)))\n",
        "classifier_model.add(tf.keras.layers.Dropout(0.3))\n",
        "classifier_model.add(tf.keras.layers.Dense(units=50,activation='relu'))\n",
        "classifier_model.add(tf.keras.layers.Dropout(0.3))\n",
        "classifier_model.add(tf.keras.layers.Dense(units=50,activation='relu'))\n",
        "classifier_model.add(tf.keras.layers.Dense(units=1,activation='sigmoid'))"
      ]
    },
    {
      "cell_type": "code",
      "execution_count": null,
      "metadata": {
        "id": "4rSJ_VdENfpU"
      },
      "outputs": [],
      "source": [
        "#compiled Ann model\n",
        "classifier_model.compile(optimizer='Adam',loss='binary_crossentropy',metrics='accuracy')"
      ]
    },
    {
      "cell_type": "code",
      "execution_count": null,
      "metadata": {
        "colab": {
          "base_uri": "https://localhost:8080/"
        },
        "id": "fyV3xHfUON_l",
        "outputId": "008c18ec-3ff2-4e1a-a697-29fe0c6a221b"
      },
      "outputs": [
        {
          "name": "stdout",
          "output_type": "stream",
          "text": [
            "Epoch 1/50\n",
            "64/64 [==============================] - 1s 7ms/step - loss: 0.5609 - accuracy: 0.7369 - val_loss: 0.5054 - val_accuracy: 0.7865\n",
            "Epoch 2/50\n",
            "64/64 [==============================] - 0s 4ms/step - loss: 0.4860 - accuracy: 0.7987 - val_loss: 0.4876 - val_accuracy: 0.7865\n",
            "Epoch 3/50\n",
            "64/64 [==============================] - 0s 4ms/step - loss: 0.4651 - accuracy: 0.7994 - val_loss: 0.4716 - val_accuracy: 0.7875\n",
            "Epoch 4/50\n",
            "64/64 [==============================] - 0s 4ms/step - loss: 0.4520 - accuracy: 0.8059 - val_loss: 0.4663 - val_accuracy: 0.8005\n",
            "Epoch 5/50\n",
            "64/64 [==============================] - 0s 4ms/step - loss: 0.4400 - accuracy: 0.8170 - val_loss: 0.4484 - val_accuracy: 0.8180\n",
            "Epoch 6/50\n",
            "64/64 [==============================] - 0s 4ms/step - loss: 0.4251 - accuracy: 0.8245 - val_loss: 0.4332 - val_accuracy: 0.8240\n",
            "Epoch 7/50\n",
            "64/64 [==============================] - 0s 4ms/step - loss: 0.4115 - accuracy: 0.8336 - val_loss: 0.4139 - val_accuracy: 0.8335\n",
            "Epoch 8/50\n",
            "64/64 [==============================] - 0s 3ms/step - loss: 0.4006 - accuracy: 0.8365 - val_loss: 0.4055 - val_accuracy: 0.8385\n",
            "Epoch 9/50\n",
            "64/64 [==============================] - 0s 4ms/step - loss: 0.3905 - accuracy: 0.8434 - val_loss: 0.4012 - val_accuracy: 0.8400\n",
            "Epoch 10/50\n",
            "64/64 [==============================] - 0s 4ms/step - loss: 0.3869 - accuracy: 0.8409 - val_loss: 0.3994 - val_accuracy: 0.8415\n",
            "Epoch 11/50\n",
            "64/64 [==============================] - 0s 4ms/step - loss: 0.3861 - accuracy: 0.8418 - val_loss: 0.3946 - val_accuracy: 0.8425\n",
            "Epoch 12/50\n",
            "64/64 [==============================] - 0s 4ms/step - loss: 0.3780 - accuracy: 0.8450 - val_loss: 0.3893 - val_accuracy: 0.8440\n",
            "Epoch 13/50\n",
            "64/64 [==============================] - 0s 4ms/step - loss: 0.3758 - accuracy: 0.8468 - val_loss: 0.4011 - val_accuracy: 0.8435\n"
          ]
        }
      ],
      "source": [
        "#calculating the epochs on training and validation dataset\n",
        "from tensorflow.keras.callbacks import EarlyStopping\n",
        "Early_Stop=EarlyStopping()\n",
        "epochs_hist = classifier_model.fit(X_train,Y_train,epochs = 50, validation_data = (X_test, Y_test), batch_size=125,callbacks=[Early_Stop])"
      ]
    },
    {
      "cell_type": "markdown",
      "metadata": {
        "id": "lHx3VjeOOhUY"
      },
      "source": []
    },
    {
      "cell_type": "code",
      "execution_count": null,
      "metadata": {
        "colab": {
          "base_uri": "https://localhost:8080/",
          "height": 427
        },
        "id": "T_5avnRRUMsA",
        "outputId": "88c633af-1fbb-4f33-e33e-9bff8ba44832"
      },
      "outputs": [
        {
          "data": {
            "text/plain": [
              "<matplotlib.legend.Legend at 0x7b864ff3e050>"
            ]
          },
          "execution_count": 16,
          "metadata": {},
          "output_type": "execute_result"
        },
        {
          "data": {
            "image/png": "[encoded data removed]",
            "text/plain": [
              "<Figure size 400x400 with 1 Axes>"
            ]
          },
          "metadata": {},
          "output_type": "display_data"
        }
      ],
      "source": [
        "#plotting the graph between the training loass and accuracy vs number epochs\n",
        "plt.figure(figsize=(4,4))\n",
        "eh=epochs_hist.history['loss']\n",
        "eh2=epochs_hist.history['accuracy']\n",
        "eh3=epochs_hist.history['val_loss']\n",
        "eh4=epochs_hist.history['val_accuracy']\n",
        "plt.plot(eh)\n",
        "plt.plot(eh2)\n",
        "plt.plot(eh3)\n",
        "plt.plot(eh4)\n",
        "plt.title('Training Loss and Accuracy vs epochs graph')\n",
        "plt.xlabel('epochs')\n",
        "plt.ylabel('Training loss and Accuracy')\n",
        "plt.legend(['loss','accuracy','val_loss','val_accuracy'])"
      ]
    },
    {
      "cell_type": "code",
      "execution_count": null,
      "metadata": {
        "colab": {
          "base_uri": "https://localhost:8080/"
        },
        "id": "ZHHPy2ntV69z",
        "outputId": "9aa9a622-f60a-4160-f22d-fb8f63e3bf3d"
      },
      "outputs": [
        {
          "name": "stdout",
          "output_type": "stream",
          "text": [
            "63/63 [==============================] - 0s 3ms/step - loss: 0.4011 - accuracy: 0.8435\n",
            "test.accuracy:0.843500018119812\n"
          ]
        }
      ],
      "source": [
        "#evaluating the model on the testing dataset\n",
        "evaluation=classifier_model.evaluate(X_test,Y_test)\n",
        "print('test.accuracy:{}'.format(evaluation[1]))"
      ]
    },
    {
      "cell_type": "code",
      "execution_count": null,
      "metadata": {
        "colab": {
          "base_uri": "https://localhost:8080/"
        },
        "id": "xyvvVDd8WOGC",
        "outputId": "c0ce15d3-4db5-4cee-f6e1-35d8555f7b36"
      },
      "outputs": [
        {
          "name": "stdout",
          "output_type": "stream",
          "text": [
            "63/63 [==============================] - 1s 9ms/step\n",
            "250/250 [==============================] - 2s 6ms/step\n"
          ]
        }
      ],
      "source": [
        "#prediction of the model\n",
        "Y_test_predict=classifier_model.predict(X_test)\n",
        "#filtering those values greater than 0.5 in testing dataset\n",
        "Y_test_predict=(Y_test_predict>0.5)\n",
        "#predict the values on the training test\n",
        "Y_train_predict=classifier_model.predict(X_train)\n",
        "#filtering those value greater than 0.5 in training dataset\n",
        "Y_train_predict=(Y_train_predict>0.5)"
      ]
    },
    {
      "cell_type": "code",
      "execution_count": null,
      "metadata": {
        "colab": {
          "base_uri": "https://localhost:8080/",
          "height": 385
        },
        "id": "mT9Fyp2zXaTJ",
        "outputId": "955a663c-4c7c-4dc5-e220-178282af9d0b"
      },
      "outputs": [
        {
          "data": {
            "text/plain": [
              "<Axes: >"
            ]
          },
          "execution_count": 19,
          "metadata": {},
          "output_type": "execute_result"
        },
        {
          "data": {
            "image/png": "[encoded data removed]",
            "text/plain": [
              "<Figure size 400x400 with 2 Axes>"
            ]
          },
          "metadata": {},
          "output_type": "display_data"
        }
      ],
      "source": [
        "#plotting the confusion_matrix,classification_report\n",
        "plt.figure(figsize=(4,4))\n",
        "from sklearn.metrics import confusion_matrix,classification_report\n",
        "cm=confusion_matrix(Y_train,Y_train_predict)\n",
        "sns.heatmap(cm,annot=True)"
      ]
    },
    {
      "cell_type": "code",
      "execution_count": null,
      "metadata": {
        "colab": {
          "base_uri": "https://localhost:8080/",
          "height": 385
        },
        "id": "wvx2HxFNCg9y",
        "outputId": "8790106b-75e2-4797-845d-f18d81d34657"
      },
      "outputs": [
        {
          "data": {
            "text/plain": [
              "<Axes: >"
            ]
          },
          "execution_count": 20,
          "metadata": {},
          "output_type": "execute_result"
        },
        {
          "data": {
            "image/png": "[encoded data removed]",
            "text/plain": [
              "<Figure size 400x400 with 2 Axes>"
            ]
          },
          "metadata": {},
          "output_type": "display_data"
        }
      ],
      "source": [
        "#plotting the confusion matrix of testing dataset\n",
        "plt.figure(figsize=(4,4))\n",
        "cm2=confusion_matrix(Y_test,Y_test_predict)\n",
        "sns.heatmap(cm2,annot=True)"
      ]
    },
    {
      "cell_type": "code",
      "execution_count": null,
      "metadata": {
        "colab": {
          "base_uri": "https://localhost:8080/"
        },
        "id": "EGokCe-Pge0k",
        "outputId": "52e189ed-c889-493f-a719-f94c31f69109"
      },
      "outputs": [
        {
          "name": "stdout",
          "output_type": "stream",
          "text": [
            "Training Report :\n",
            "               precision    recall  f1-score   support\n",
            "\n",
            "           0       0.85      0.99      0.91      6390\n",
            "           1       0.86      0.32      0.47      1610\n",
            "\n",
            "    accuracy                           0.85      8000\n",
            "   macro avg       0.86      0.65      0.69      8000\n",
            "weighted avg       0.85      0.85      0.82      8000\n",
            "\n",
            "Training Report :\n",
            "               precision    recall  f1-score   support\n",
            "\n",
            "           0       0.84      0.99      0.91      1573\n",
            "           1       0.90      0.30      0.45       427\n",
            "\n",
            "    accuracy                           0.84      2000\n",
            "   macro avg       0.87      0.65      0.68      2000\n",
            "weighted avg       0.85      0.84      0.81      2000\n",
            "\n"
          ]
        }
      ],
      "source": [
        "#printing the classification report of training and testing dataset\n",
        "print(\"Training Report :\\n\",classification_report(Y_train,Y_train_predict))\n",
        "print(\"Training Report :\\n\",classification_report(Y_test,Y_test_predict))\n"
      ]
    },
    {
      "cell_type": "markdown",
      "metadata": {
        "id": "gZSe8Eq3gvr_"
      },
      "source": []
    },
    {
      "cell_type": "code",
      "execution_count": null,
      "metadata": {
        "id": "AuM4XyzUEv5g"
      },
      "outputs": [],
      "source": [
        "#Now we will update the model based on various parameters\n",
        "#Code for accuracy graph will be same in the complete project.\n",
        "#A.Update the optimiser\n",
        "#When we updated the optimizer for different optimizer we got different accuracies.\n"
      ]
    },
    {
      "cell_type": "code",
      "execution_count": null,
      "metadata": {
        "colab": {
          "base_uri": "https://localhost:8080/"
        },
        "id": "VFtDwO9_Fp17",
        "outputId": "494d228f-f0cd-4132-bbc8-08a54202ab90"
      },
      "outputs": [
        {
          "name": "stdout",
          "output_type": "stream",
          "text": [
            "Epoch 1/5\n",
            "64/64 [==============================] - 1s 7ms/step - loss: 0.3467 - accuracy: 0.8579 - val_loss: 0.3801 - val_accuracy: 0.8440\n",
            "Epoch 2/5\n",
            "64/64 [==============================] - 0s 4ms/step - loss: 0.3472 - accuracy: 0.8580 - val_loss: 0.3800 - val_accuracy: 0.8470\n",
            "Epoch 3/5\n",
            "64/64 [==============================] - 0s 4ms/step - loss: 0.3567 - accuracy: 0.8547 - val_loss: 0.3783 - val_accuracy: 0.8475\n",
            "Epoch 4/5\n",
            "64/64 [==============================] - 0s 4ms/step - loss: 0.3583 - accuracy: 0.8549 - val_loss: 0.3823 - val_accuracy: 0.8485\n"
          ]
        }
      ],
      "source": [
        "#1.optimizer=RMSprop\n",
        "classifier_model.compile(optimizer='RMSprop',loss='binary_crossentropy',metrics='accuracy')\n",
        "#calculating the epochs on training and validation dataset\n",
        "from tensorflow.keras.callbacks import EarlyStopping\n",
        "Early_Stop=EarlyStopping()\n",
        "epochs_hist=classifier_model.fit(X_train,Y_train,epochs=5,validation_data=(X_test,Y_test),batch_size=125 ,callbacks=[Early_Stop])\n"
      ]
    },
    {
      "cell_type": "code",
      "execution_count": null,
      "metadata": {
        "colab": {
          "base_uri": "https://localhost:8080/"
        },
        "id": "CvSoBPzHI1ii",
        "outputId": "f8fbe04c-a1c4-41bb-a0ac-9e48b3fd5f15"
      },
      "outputs": [
        {
          "name": "stdout",
          "output_type": "stream",
          "text": [
            "Epoch 1/5\n",
            "64/64 [==============================] - 1s 6ms/step - loss: 0.3401 - accuracy: 0.8596 - val_loss: 0.3823 - val_accuracy: 0.8485\n",
            "Epoch 2/5\n",
            "64/64 [==============================] - 0s 4ms/step - loss: 0.3417 - accuracy: 0.8596 - val_loss: 0.3822 - val_accuracy: 0.8485\n",
            "Epoch 3/5\n",
            "64/64 [==============================] - 0s 4ms/step - loss: 0.3491 - accuracy: 0.8564 - val_loss: 0.3822 - val_accuracy: 0.8485\n",
            "Epoch 4/5\n",
            "64/64 [==============================] - 0s 4ms/step - loss: 0.3488 - accuracy: 0.8590 - val_loss: 0.3822 - val_accuracy: 0.8485\n",
            "Epoch 5/5\n",
            "64/64 [==============================] - 0s 4ms/step - loss: 0.3556 - accuracy: 0.8569 - val_loss: 0.3821 - val_accuracy: 0.8485\n"
          ]
        }
      ],
      "source": [
        "#2.optimizer=Adadelta\n",
        "classifier_model.compile(optimizer='Adadelta',loss='binary_crossentropy',metrics='accuracy')\n",
        "#calculation the epochs on training and validation dataset\n",
        "from tensorflow.keras.callbacks import EarlyStopping\n",
        "Early_Stop=EarlyStopping()\n",
        "epochs_hist=classifier_model.fit(X_train,Y_train,epochs=5,validation_data=(X_test,Y_test),batch_size=125,callbacks=[Early_Stop])"
      ]
    },
    {
      "cell_type": "code",
      "execution_count": null,
      "metadata": {
        "colab": {
          "base_uri": "https://localhost:8080/"
        },
        "id": "eWfoEtVMJ-8L",
        "outputId": "be7b2ef1-b360-4db5-8bca-39a5f457290e"
      },
      "outputs": [
        {
          "name": "stdout",
          "output_type": "stream",
          "text": [
            "Epoch 1/5\n",
            "64/64 [==============================] - 1s 6ms/step - loss: 0.3390 - accuracy: 0.8604 - val_loss: 0.3810 - val_accuracy: 0.8470\n",
            "Epoch 2/5\n",
            "64/64 [==============================] - 0s 4ms/step - loss: 0.3407 - accuracy: 0.8600 - val_loss: 0.3813 - val_accuracy: 0.8465\n"
          ]
        }
      ],
      "source": [
        "#3.Optimizer=Adagrad\n",
        "classifier_model.compile(optimizer='Adagrad',loss='binary_crossentropy',metrics='accuracy')\n",
        "#calcualting the epochs on training import EarlyStopping\n",
        "Early_Stop=EarlyStopping()\n",
        "epochs_hist=classifier_model.fit(X_train,Y_train,epochs=5,validation_data=(X_test,Y_test),batch_size=125,callbacks=[Early_Stop])"
      ]
    },
    {
      "cell_type": "code",
      "execution_count": null,
      "metadata": {
        "colab": {
          "base_uri": "https://localhost:8080/"
        },
        "id": "frzRn0DqK7_y",
        "outputId": "78f0c145-b86f-4087-dd52-bbdc83b17dee"
      },
      "outputs": [
        {
          "name": "stdout",
          "output_type": "stream",
          "text": [
            "Epoch 1/5\n",
            "64/64 [==============================] - 1s 6ms/step - loss: 0.4974 - accuracy: 0.7946 - val_loss: 0.4886 - val_accuracy: 0.7885\n",
            "Epoch 2/5\n",
            "64/64 [==============================] - 0s 6ms/step - loss: 0.4696 - accuracy: 0.8037 - val_loss: 0.4728 - val_accuracy: 0.7975\n",
            "Epoch 3/5\n",
            "64/64 [==============================] - 0s 7ms/step - loss: 0.4571 - accuracy: 0.8056 - val_loss: 0.4713 - val_accuracy: 0.7995\n",
            "Epoch 4/5\n",
            "64/64 [==============================] - 0s 7ms/step - loss: 0.4508 - accuracy: 0.8114 - val_loss: 0.4730 - val_accuracy: 0.8000\n"
          ]
        }
      ],
      "source": [
        "#B.Changing the activation functions\n",
        "#1.Linear Activation\n",
        "\n",
        "tf.random.set_seed(42)\n",
        "classifier_model = tf.keras.models.Sequential()\n",
        "classifier_model.add(tf.keras.layers.Dense(units = 100, activation = 'linear', input_shape = (10,)))\n",
        "classifier_model.add(tf.keras.layers.Dropout(0.3))\n",
        "classifier_model.add(tf.keras.layers.Dense(units = 50, activation = 'linear'))\n",
        "classifier_model.add(tf.keras.layers.Dropout(0.3))\n",
        "classifier_model.add(tf.keras.layers.Dense(units = 50, activation = 'linear'))\n",
        "classifier_model.add(tf.keras.layers.Dense(units = 1, activation = 'sigmoid'))\n",
        "classifier_model.compile(optimizer = 'Adam', loss = 'binary_crossentropy', metrics = 'accuracy')\n",
        "#calculating the epochs on training and validation dataset\n",
        "from tensorflow.keras.callbacks import EarlyStopping\n",
        "Early_Stop = EarlyStopping()\n",
        "epochs_hist = classifier_model.fit(X_train,Y_train,epochs = 5, validation_data = (X_test, Y_test), batch_size=125,callbacks=[Early_Stop])\n"
      ]
    },
    {
      "cell_type": "code",
      "execution_count": null,
      "metadata": {
        "colab": {
          "base_uri": "https://localhost:8080/"
        },
        "id": "vcJ_me7EWjQn",
        "outputId": "b1a1fa9c-7f22-49cf-d56b-b81c034ed272"
      },
      "outputs": [
        {
          "name": "stdout",
          "output_type": "stream",
          "text": [
            "Epoch 1/5\n",
            "64/64 [==============================] - 3s 19ms/step - loss: 0.5132 - accuracy: 0.7844 - val_loss: 0.4948 - val_accuracy: 0.7865\n",
            "Epoch 2/5\n",
            "64/64 [==============================] - 1s 10ms/step - loss: 0.4734 - accuracy: 0.8008 - val_loss: 0.4794 - val_accuracy: 0.7925\n",
            "Epoch 3/5\n",
            "64/64 [==============================] - 1s 10ms/step - loss: 0.4604 - accuracy: 0.8045 - val_loss: 0.4755 - val_accuracy: 0.7965\n",
            "Epoch 4/5\n",
            "64/64 [==============================] - 1s 9ms/step - loss: 0.4468 - accuracy: 0.8099 - val_loss: 0.4745 - val_accuracy: 0.8000\n",
            "Epoch 5/5\n",
            "64/64 [==============================] - 1s 10ms/step - loss: 0.4483 - accuracy: 0.8104 - val_loss: 0.4702 - val_accuracy: 0.8035\n"
          ]
        }
      ],
      "source": [
        "#2.Tanh Activation\n",
        "tf.random.set_seed(42)\n",
        "classifier_model=tf.keras.models.Sequential()\n",
        "classifier_model.add(tf.keras.layers.Dense(units=100,activation='tanh',input_shape=(10,)))\n",
        "classifier_model.add(tf.keras.layers.Dropout(0.3))\n",
        "classifier_model.add(tf.keras.layers.Dense(units=50,activation='tanh'))\n",
        "classifier_model.add(tf.keras.layers.Dropout(0.3))\n",
        "classifier_model.add(tf.keras.layers.Dense(units=50,activation='tanh'))\n",
        "classifier_model.add(tf.keras.layers.Dense(units=1,activation='sigmoid'))\n",
        "classifier_model.compile(optimizer='Adam',loss='binary_crossentropy',metrics='accuracy')\n",
        "#calculating the epochs on training and validation dataset\n",
        "from tensorflow.keras.callbacks import EarlyStopping\n",
        "Early_Stop=EarlyStopping()\n",
        "epochs_hist=classifier_model.fit(X_train, Y_train, epochs=5, validation_data=(X_test,Y_test), batch_size=125, callbacks=[Early_Stop])"
      ]
    },
    {
      "cell_type": "code",
      "execution_count": null,
      "metadata": {
        "colab": {
          "base_uri": "https://localhost:8080/"
        },
        "id": "QQKwspDhY7tc",
        "outputId": "646584af-8b2b-4b5a-b814-9446a2696964"
      },
      "outputs": [
        {
          "name": "stdout",
          "output_type": "stream",
          "text": [
            "Epoch 1/5\n",
            "64/64 [==============================] - 2s 13ms/step - loss: 0.5100 - accuracy: 0.7908 - val_loss: 0.4991 - val_accuracy: 0.7865\n",
            "Epoch 2/5\n",
            "64/64 [==============================] - 1s 8ms/step - loss: 0.4677 - accuracy: 0.7995 - val_loss: 0.4683 - val_accuracy: 0.7915\n",
            "Epoch 3/5\n",
            "64/64 [==============================] - 1s 9ms/step - loss: 0.4451 - accuracy: 0.8092 - val_loss: 0.4591 - val_accuracy: 0.8055\n",
            "Epoch 4/5\n",
            "64/64 [==============================] - 1s 10ms/step - loss: 0.4232 - accuracy: 0.8215 - val_loss: 0.4410 - val_accuracy: 0.8210\n",
            "Epoch 5/5\n",
            "64/64 [==============================] - 1s 8ms/step - loss: 0.4057 - accuracy: 0.8357 - val_loss: 0.4220 - val_accuracy: 0.8335\n"
          ]
        }
      ],
      "source": [
        "#C.Incrase Number of Neurons\n",
        "#imported ANN through keras API and tensorflow\n",
        "#ANN is just to check how it performs on the dataset\n",
        "tf.random.set_seed(42)\n",
        "classifier_model=tf.keras.models.Sequential()\n",
        "classifier_model.add(tf.keras.layers.Dense(units=256,activation='relu',input_shape=(10,)))\n",
        "classifier_model.add(tf.keras.layers.Dropout(0.3))\n",
        "classifier_model.add(tf.keras.layers.Dense(units=128,activation='relu'))\n",
        "classifier_model.add(tf.keras.layers.Dropout(0.3))\n",
        "classifier_model.add(tf.keras.layers.Dense(units=64,activation='relu'))\n",
        "classifier_model.add(tf.keras.layers.Dense(units=1,activation='sigmoid'))\n",
        "classifier_model.compile(optimizer='Adam',loss='binary_crossentropy',metrics='accuracy')\n",
        "#calculation the epochs on trainig and validation dataset\n",
        "from tensorflow.keras.callbacks import EarlyStopping\n",
        "Early_Stop=EarlyStopping()\n",
        "epochs_hist=classifier_model.fit(X_train,Y_train,epochs=5,validation_data=(X_test,Y_test),batch_size=125,callbacks=[Early_Stop])\n"
      ]
    },
    {
      "cell_type": "code",
      "execution_count": null,
      "metadata": {
        "colab": {
          "base_uri": "https://localhost:8080/"
        },
        "id": "VvhtcZMVd3Qw",
        "outputId": "5d96e0a7-44ec-4d4c-c296-b3f8ea983730"
      },
      "outputs": [
        {
          "data": {
            "text/plain": [
              "(10000, 14)"
            ]
          },
          "execution_count": 55,
          "metadata": {},
          "output_type": "execute_result"
        }
      ],
      "source": []
    }
  ],
  "metadata": {
    "colab": {
      "authorship_tag": "ABX9TyNKm5Gzbl8IB7fo0pfVBXgZ",
      "include_colab_link": true,
      "provenance": []
    },
    "kernelspec": {
      "display_name": "Python 3",
      "name": "python3"
    },
    "language_info": {
      "name": "python"
    }
  },
  "nbformat": 4,
  "nbformat_minor": 0
}
